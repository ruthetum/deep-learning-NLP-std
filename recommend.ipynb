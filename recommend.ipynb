{
  "nbformat": 4,
  "nbformat_minor": 0,
  "metadata": {
    "colab": {
      "name": "recommend.ipynb",
      "provenance": [],
      "collapsed_sections": [],
      "authorship_tag": "ABX9TyNZ4XwTlL+SbZehycl9ROEr",
      "include_colab_link": true
    },
    "kernelspec": {
      "name": "python3",
      "display_name": "Python 3"
    },
    "language_info": {
      "name": "python"
    }
  },
  "cells": [
    {
      "cell_type": "markdown",
      "metadata": {
        "id": "view-in-github",
        "colab_type": "text"
      },
      "source": [
        "<a href=\"https://colab.research.google.com/github/ruthetum/deep-learning-NLP-std/blob/master/recommend.ipynb\" target=\"_parent\"><img src=\"https://colab.research.google.com/assets/colab-badge.svg\" alt=\"Open In Colab\"/></a>"
      ]
    },
    {
      "cell_type": "markdown",
      "metadata": {
        "id": "2zGRuKaA-sij"
      },
      "source": [
        "# 추천 알고리즘 - 유사도만 이용하기"
      ]
    },
    {
      "cell_type": "markdown",
      "metadata": {
        "id": "IXe-584HPsKy"
      },
      "source": [
        "## RMSE를 사용한다면\n",
        "\n",
        "각 항목에 대한 오차를 반영하니까 간단한데 이걸 적용할 경우\n",
        "미션의 수가 증가할 때마다 추천 소모 시간도 증가"
      ]
    },
    {
      "cell_type": "code",
      "metadata": {
        "id": "A9eCGehuMtl2"
      },
      "source": [
        "user = [3, 1, 2, 3, 5]\n",
        "missions = [\n",
        "  [2, 1, 2, 3, 5],\n",
        "  [1, 2, 3, 4, 5],\n",
        "  [5, 5, 5, 3, 1]\n",
        "]"
      ],
      "execution_count": 25,
      "outputs": []
    },
    {
      "cell_type": "code",
      "metadata": {
        "id": "2wNcWJssLjJY"
      },
      "source": [
        "import math\n",
        "def similarity(user, mission):\n",
        "  # activity, group, place, sport, strength\n",
        "  # RMSE\n",
        "  \n",
        "  rmse = 0\n",
        "\n",
        "  for i in range(5):\n",
        "    rmse = rmse + pow(user[i]-mission[i], 2)\n",
        "\n",
        "  rmse = rmse / 5\n",
        "  rmse = math.sqrt(rmse)\n",
        "\n",
        "  return rmse "
      ],
      "execution_count": 32,
      "outputs": []
    },
    {
      "cell_type": "code",
      "metadata": {
        "colab": {
          "base_uri": "https://localhost:8080/"
        },
        "id": "jd2v5sRTOe3b",
        "outputId": "4c881a75-5bbb-4773-d5ac-899a1e5cb760"
      },
      "source": [
        "similarities = []\n",
        "for mission in missions:\n",
        "  similarities.append(similarity(user, mission))\n",
        "\n",
        "similarities"
      ],
      "execution_count": 33,
      "outputs": [
        {
          "output_type": "execute_result",
          "data": {
            "text/plain": [
              "[0.4472135954999579, 1.1832159566199232, 3.0]"
            ]
          },
          "metadata": {
            "tags": []
          },
          "execution_count": 33
        }
      ]
    },
    {
      "cell_type": "markdown",
      "metadata": {
        "id": "uMPg5wJcCReR"
      },
      "source": [
        "## 코사인 유사도 vs 유클리드 유사도\n",
        "\n",
        "코사인 유사도 : 각도 기반\n",
        "유클리드 유사도 : 거리 기반\n",
        "\n",
        "Ex.\n",
        "책 A : 게임 1, 액션 1\n",
        "책 B : 게임 100, 액션 100\n",
        "\n",
        "각도 기반으로 유사도를 측정하면\n",
        "책 A에서 게임과 액션이 1:1, 책 B에서 게임과 액션이 1:1이기 때문에 유사도가 매우 높음\n",
        "\n",
        "반면 거리(scale) 기반으로 유사도를 측정하면\n",
        "책 B에서 게임 1, 액션 1, 책 B에서는 게임 100, 액션 100이기 때문에 유사도가 낮음\n",
        "\n",
        "\n",
        "따라서 우리는 각각의 스케일보다는 카테고리(컬럼) 별 비율에 따라 유사도를 측정해야 하기 때문에\n",
        "코사인 유사도, 각도 기반으로 유사도를 측정"
      ]
    },
    {
      "cell_type": "code",
      "metadata": {
        "id": "LUaeP8cw-lpn"
      },
      "source": [
        "import pandas as pd"
      ],
      "execution_count": null,
      "outputs": []
    },
    {
      "cell_type": "code",
      "metadata": {
        "id": "s9hov4_mBTBB"
      },
      "source": [
        "from sklearn.metrics.pairwise import cosine_similarity\n",
        "\n",
        "df1 = [[3, 1, 2, 3, 5]]\n",
        "df2 = [[2, 1, 2, 3, 5]]\n",
        "df3 = [[4, 2, 4, 6, 10]]"
      ],
      "execution_count": null,
      "outputs": []
    },
    {
      "cell_type": "code",
      "metadata": {
        "colab": {
          "base_uri": "https://localhost:8080/"
        },
        "id": "6xD07AsiCDQL",
        "outputId": "2030b55c-0cfd-4f92-c986-5f4630d432b9"
      },
      "source": [
        "cosine_similarity(df1, df2)"
      ],
      "execution_count": null,
      "outputs": [
        {
          "output_type": "execute_result",
          "data": {
            "text/plain": [
              "array([[0.99050727]])"
            ]
          },
          "metadata": {
            "tags": []
          },
          "execution_count": 15
        }
      ]
    },
    {
      "cell_type": "code",
      "metadata": {
        "colab": {
          "base_uri": "https://localhost:8080/"
        },
        "id": "QmJjxFe5CDSp",
        "outputId": "600277c2-f5ed-4348-f5f2-3e7ba701b00f"
      },
      "source": [
        "cosine_similarity(df1, df3)"
      ],
      "execution_count": null,
      "outputs": [
        {
          "output_type": "execute_result",
          "data": {
            "text/plain": [
              "array([[0.99050727]])"
            ]
          },
          "metadata": {
            "tags": []
          },
          "execution_count": 16
        }
      ]
    },
    {
      "cell_type": "code",
      "metadata": {
        "colab": {
          "base_uri": "https://localhost:8080/"
        },
        "id": "7z0IGTPoCDZb",
        "outputId": "6d65ab23-706c-46c4-c9df-f10c49c003b4"
      },
      "source": [
        "cosine_similarity(df2, df3)"
      ],
      "execution_count": null,
      "outputs": [
        {
          "output_type": "execute_result",
          "data": {
            "text/plain": [
              "array([[1.]])"
            ]
          },
          "metadata": {
            "tags": []
          },
          "execution_count": 17
        }
      ]
    },
    {
      "cell_type": "code",
      "metadata": {
        "id": "-Wy23_zMB_U7"
      },
      "source": [
        "from sklearn.metrics.pairwise import euclidean_distances"
      ],
      "execution_count": null,
      "outputs": []
    },
    {
      "cell_type": "code",
      "metadata": {
        "colab": {
          "base_uri": "https://localhost:8080/"
        },
        "id": "orRPIQlFCG4A",
        "outputId": "d5a7239c-189a-4f52-ab52-6ec1cb8e1f89"
      },
      "source": [
        "1 / (euclidean_distances(df1, df2) + 1e-5)"
      ],
      "execution_count": null,
      "outputs": [
        {
          "output_type": "execute_result",
          "data": {
            "text/plain": [
              "array([[0.99999]])"
            ]
          },
          "metadata": {
            "tags": []
          },
          "execution_count": 19
        }
      ]
    },
    {
      "cell_type": "code",
      "metadata": {
        "colab": {
          "base_uri": "https://localhost:8080/"
        },
        "id": "pG7T3PmGCG7p",
        "outputId": "24d3c7a9-996b-42f7-9c8e-6aea1ff144ce"
      },
      "source": [
        "1 / (euclidean_distances(df1, df3) + 1e-5)"
      ],
      "execution_count": null,
      "outputs": [
        {
          "output_type": "execute_result",
          "data": {
            "text/plain": [
              "array([[0.15811363]])"
            ]
          },
          "metadata": {
            "tags": []
          },
          "execution_count": 20
        }
      ]
    },
    {
      "cell_type": "code",
      "metadata": {
        "colab": {
          "base_uri": "https://localhost:8080/"
        },
        "id": "DlNKLkw_CG9w",
        "outputId": "c67759b4-a4fc-4b3f-e39d-6d6bff3b1468"
      },
      "source": [
        "1 / (euclidean_distances(df2, df3) + 1e-5)"
      ],
      "execution_count": null,
      "outputs": [
        {
          "output_type": "execute_result",
          "data": {
            "text/plain": [
              "array([[0.15249834]])"
            ]
          },
          "metadata": {
            "tags": []
          },
          "execution_count": 21
        }
      ]
    }
  ]
}